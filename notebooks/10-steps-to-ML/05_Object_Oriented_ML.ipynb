{
 "cells": [
  {
   "cell_type": "markdown",
   "metadata": {
    "colab_type": "text",
    "id": "bOChJSNXtC9g"
   },
   "source": [
    "# Object Oriented ML"
   ]
  },
  {
   "cell_type": "markdown",
   "metadata": {
    "colab_type": "text",
    "id": "OLIxEDq6VhvZ"
   },
   "source": [
    "In this notebook, we will learn how to properly create and use classes & functions to solve ML tasks with PyTorch. We will be following this implementation structure in subsequent notebooks.\n",
    "\n",
    "\n",
    "\n"
   ]
  },
  {
   "cell_type": "markdown",
   "metadata": {
    "colab_type": "text",
    "id": "VoMq0eFRvugb"
   },
   "source": [
    "# Overview"
   ]
  },
  {
   "cell_type": "markdown",
   "metadata": {
    "colab_type": "text",
    "id": "qWro5T5qTJJL"
   },
   "source": [
    "Here is the overview of the different classes and the functionality they will have."
   ]
  },
  {
   "cell_type": "markdown",
   "metadata": {
    "colab_type": "text",
    "id": "f88fhoHFLIKg"
   },
   "source": [
    "*   **Vocabulary**: dictionaries to convert between raw inputs and numerical form. Usually useful for NLP tasks to build and store vocabulary dictionaries.\n",
    "*   **Vectorizer**: instances of the vocabulary class for inputs and outputs and vectorizes the data for the model.\n",
    "*   **Dataset**: vectorizers to process the data and data splits.\n",
    "*   **Model**: PyTorch model to process inputs and return predictions.\n",
    "* **Trainer**: training operations using the dataset, vectorizer and model.\n",
    "* **Inference**: inference operations for new data\n",
    "\n",
    "Credit for the code structure in the implementations below and in subsequent lessons goes to these [contributors](https://github.com/joosthub/PyTorchNLPBook/graphs/contributors)."
   ]
  },
  {
   "cell_type": "markdown",
   "metadata": {
    "colab_type": "text",
    "id": "ODSOZctb0VQg"
   },
   "source": [
    "# Configuration"
   ]
  },
  {
   "cell_type": "markdown",
   "metadata": {
    "colab_type": "text",
    "id": "g2akVr26R--d"
   },
   "source": [
    "We will be using these configurations throughout the notebook for our task of predicting nationality given a surname."
   ]
  },
  {
   "cell_type": "code",
   "execution_count": 1,
   "metadata": {
    "colab": {},
    "colab_type": "code",
    "id": "F4pjjYBUFgsI"
   },
   "outputs": [],
   "source": [
    "config = {\n",
    "  \"seed\": 1234,\n",
    "  \"cuda\": True,\n",
    "  \"data_url\": \"data/surnames.csv\",\n",
    "  \"data_file\": \"data/surnames.csv\",\n",
    "  \"shuffle\": True,\n",
    "  \"train_size\": 0.7,\n",
    "  \"val_size\": 0.15,\n",
    "  \"test_size\": 0.15,\n",
    "  \"vectorizer_file\": \"vectorizer.json\",\n",
    "  \"model_file\": \"model.pth\",\n",
    "  \"save_dir\": \"experiments\",\n",
    "  \"num_epochs\": 20,\n",
    "  \"early_stopping_criteria\": 5,\n",
    "  \"learning_rate\": 1e-3,\n",
    "  \"batch_size\": 128,\n",
    "  \"fc\": {\n",
    "    \"hidden_dim\": 300,\n",
    "    \"dropout_p\": 0.1\n",
    "  }\n",
    "}"
   ]
  },
  {
   "cell_type": "markdown",
   "metadata": {
    "colab_type": "text",
    "id": "xVi5AQCV2I_M"
   },
   "source": [
    "# Set up"
   ]
  },
  {
   "cell_type": "markdown",
   "metadata": {
    "colab_type": "text",
    "id": "MVZrmryoR4bq"
   },
   "source": [
    "We're going to get set up for our task by setting reproducability seeds with NumPy and PyTorch. We will also create a unique directory to store our configurations, model, etc."
   ]
  },
  {
   "cell_type": "code",
   "execution_count": 2,
   "metadata": {
    "colab": {},
    "colab_type": "code",
    "id": "F9z642sRVCAD"
   },
   "outputs": [],
   "source": [
    "# Let's make sure the libraries are installed\n",
    "#!pip install uuid\n",
    "#!pip install numpy\n",
    "#!pip install torch\n",
    "\n",
    "# Now import the libraries\n",
    "import os\n",
    "import json\n",
    "import numpy as np\n",
    "import time\n",
    "import torch\n",
    "import uuid\n",
    "\n",
    "import warnings\n",
    "warnings.filterwarnings('ignore')"
   ]
  },
  {
   "cell_type": "markdown",
   "metadata": {
    "colab_type": "text",
    "id": "GDgMuZNj7ERp"
   },
   "source": [
    "### Components"
   ]
  },
  {
   "cell_type": "code",
   "execution_count": 3,
   "metadata": {
    "colab": {},
    "colab_type": "code",
    "id": "Qdd1FXOc5ujg"
   },
   "outputs": [],
   "source": [
    "def set_seeds(seed, cuda):\n",
    "    \"\"\" Set Numpy and PyTorch seeds.\n",
    "    \"\"\"\n",
    "    np.random.seed(seed)\n",
    "    torch.manual_seed(seed)\n",
    "    if cuda:\n",
    "        torch.cuda.manual_seed_all(seed)\n",
    "    print (\"==> 🌱 Set NumPy and PyTorch seeds.\")"
   ]
  },
  {
   "cell_type": "code",
   "execution_count": 4,
   "metadata": {
    "colab": {},
    "colab_type": "code",
    "id": "VUxuU5aR7Yo4"
   },
   "outputs": [],
   "source": [
    "def generate_unique_id():\n",
    "    \"\"\"Generate a unique uuid\n",
    "    preceded by a epochtime.\n",
    "    \"\"\"\n",
    "    timestamp = int(time.time())\n",
    "    unique_id = \"{}_{}\".format(timestamp, uuid.uuid1())\n",
    "    print (\"==> 🔑 Generated unique id: {0}\".format(unique_id))\n",
    "    return unique_id"
   ]
  },
  {
   "cell_type": "code",
   "execution_count": 5,
   "metadata": {
    "colab": {},
    "colab_type": "code",
    "id": "26PW-4qj9Vd1"
   },
   "outputs": [],
   "source": [
    "def create_dirs(dirpath):\n",
    "    \"\"\"Creating directories.\n",
    "    \"\"\"\n",
    "    if not os.path.exists(dirpath):\n",
    "        os.makedirs(dirpath)\n",
    "        print (\"==> 📂 Created {0}\".format(dirpath))"
   ]
  },
  {
   "cell_type": "code",
   "execution_count": 6,
   "metadata": {
    "colab": {},
    "colab_type": "code",
    "id": "_9gGo840BWSn"
   },
   "outputs": [],
   "source": [
    "def check_cuda(cuda):\n",
    "    \"\"\"Check to see if GPU is available.\n",
    "    \"\"\"\n",
    "    if not torch.cuda.is_available():\n",
    "        cuda = False\n",
    "    device = torch.device(\"cuda\" if cuda else \"cpu\")\n",
    "    print (\"==> 💻 Device: {0}\".format(device))\n",
    "    return device"
   ]
  },
  {
   "cell_type": "markdown",
   "metadata": {
    "colab_type": "text",
    "id": "uJ8rb_h97HYO"
   },
   "source": [
    "### Operations"
   ]
  },
  {
   "cell_type": "code",
   "execution_count": 7,
   "metadata": {
    "colab": {
     "base_uri": "https://localhost:8080/",
     "height": 34
    },
    "colab_type": "code",
    "id": "mVbPzN3A5uUa",
    "outputId": "ec541b46-a019-40c2-9f5c-01112f460251"
   },
   "outputs": [
    {
     "name": "stdout",
     "output_type": "stream",
     "text": [
      "==> 🌱 Set NumPy and PyTorch seeds.\n"
     ]
    }
   ],
   "source": [
    "# Set seeds for reproducability\n",
    "set_seeds(seed=config[\"seed\"], cuda=config[\"cuda\"])"
   ]
  },
  {
   "cell_type": "code",
   "execution_count": 8,
   "metadata": {
    "colab": {
     "base_uri": "https://localhost:8080/",
     "height": 34
    },
    "colab_type": "code",
    "id": "dMHZbx9tFg50",
    "outputId": "cc4e9799-16a9-45d3-911c-7309cf11fab4"
   },
   "outputs": [
    {
     "name": "stdout",
     "output_type": "stream",
     "text": [
      "==> 🔑 Generated unique id: 1561139297_c0865a9e-944c-11e9-b5c8-80e6501a278b\n"
     ]
    }
   ],
   "source": [
    "# Generate unique experiment ID\n",
    "config[\"experiment_id\"] = generate_unique_id()"
   ]
  },
  {
   "cell_type": "code",
   "execution_count": 9,
   "metadata": {
    "colab": {
     "base_uri": "https://localhost:8080/",
     "height": 34
    },
    "colab_type": "code",
    "id": "GAmBykuO9iQW",
    "outputId": "3fb2d4c3-4ccd-4741-b776-d3c02c21a9ef"
   },
   "outputs": [
    {
     "name": "stdout",
     "output_type": "stream",
     "text": [
      "==> 📂 Created experiments\\1561139297_c0865a9e-944c-11e9-b5c8-80e6501a278b\n"
     ]
    }
   ],
   "source": [
    "# Create experiment directory\n",
    "config[\"save_dir\"] = os.path.join(config[\"save_dir\"], config[\"experiment_id\"])\n",
    "create_dirs(dirpath=config[\"save_dir\"])"
   ]
  },
  {
   "cell_type": "code",
   "execution_count": 10,
   "metadata": {
    "colab": {
     "base_uri": "https://localhost:8080/",
     "height": 68
    },
    "colab_type": "code",
    "id": "k3jYbBbNFg3_",
    "outputId": "3009ec2f-389d-4489-f344-ffd92bf26325"
   },
   "outputs": [
    {
     "name": "stdout",
     "output_type": "stream",
     "text": [
      "Expanded filepaths: \n",
      "experiments\\1561139297_c0865a9e-944c-11e9-b5c8-80e6501a278b\\vectorizer.json\n",
      "experiments\\1561139297_c0865a9e-944c-11e9-b5c8-80e6501a278b\\model.pth\n"
     ]
    }
   ],
   "source": [
    "# Expand file paths to store components later\n",
    "config[\"vectorizer_file\"] = os.path.join(config[\"save_dir\"], config[\"vectorizer_file\"])\n",
    "config[\"model_file\"] = os.path.join(config[\"save_dir\"], config[\"model_file\"])\n",
    "print (\"Expanded filepaths: \")\n",
    "print (\"{}\".format(config[\"vectorizer_file\"]))\n",
    "print (\"{}\".format(config[\"model_file\"]))"
   ]
  },
  {
   "cell_type": "code",
   "execution_count": 11,
   "metadata": {
    "colab": {},
    "colab_type": "code",
    "id": "CywPpqLfTRoM"
   },
   "outputs": [],
   "source": [
    "# Save config\n",
    "config_fp = os.path.join(config[\"save_dir\"], \"config.json\")\n",
    "with open(config_fp, \"w\") as fp:\n",
    "    json.dump(config, fp)"
   ]
  },
  {
   "cell_type": "code",
   "execution_count": 12,
   "metadata": {
    "colab": {
     "base_uri": "https://localhost:8080/",
     "height": 34
    },
    "colab_type": "code",
    "id": "-4PdHMemFgx2",
    "outputId": "b1212a71-56d2-46c4-f682-2f86ff5464ab"
   },
   "outputs": [
    {
     "name": "stdout",
     "output_type": "stream",
     "text": [
      "==> 💻 Device: cpu\n"
     ]
    }
   ],
   "source": [
    "# Check CUDA\n",
    "config[\"device\"] = check_cuda(cuda=config[\"cuda\"])"
   ]
  },
  {
   "cell_type": "markdown",
   "metadata": {
    "colab_type": "text",
    "id": "2H6Ty3RwMrGK"
   },
   "source": [
    "# Load data"
   ]
  },
  {
   "cell_type": "markdown",
   "metadata": {
    "colab_type": "text",
    "id": "kW71YsE7Tcvc"
   },
   "source": [
    "Get the data from the GitHub URL and then load it into a Pandas DataFrame."
   ]
  },
  {
   "cell_type": "code",
   "execution_count": 13,
   "metadata": {
    "colab": {},
    "colab_type": "code",
    "id": "vi66jJhKVTSE"
   },
   "outputs": [],
   "source": [
    "import pandas as pd\n",
    "import urllib"
   ]
  },
  {
   "cell_type": "markdown",
   "metadata": {
    "colab_type": "text",
    "id": "AKQ1bVDQMtmC"
   },
   "source": [
    "### Components"
   ]
  },
  {
   "cell_type": "code",
   "execution_count": 14,
   "metadata": {
    "colab": {},
    "colab_type": "code",
    "id": "fRq8Q6exNS48"
   },
   "outputs": [],
   "source": [
    "#def get_data(data_url, data_file):\n",
    "#    \"\"\"Get data from GitHub to notebook's\n",
    "#    local drive.\n",
    "#    \"\"\"\n",
    "#    # Create dataset directory\n",
    "#    dirpath = os.path.dirname(data_file)\n",
    "#    create_dirs(dirpath)\n",
    "#    \n",
    "#    # Fetch data\n",
    "#    response = urllib.request.urlopen(config[\"data_url\"])\n",
    "#    html = response.read()\n",
    "#    with open(config[\"data_file\"], 'wb') as fp:\n",
    "#        fp.write(html)\n",
    "#    print (\"==> 🐙 Downloading data from GitHub to {0}\".format(data_file))"
   ]
  },
  {
   "cell_type": "code",
   "execution_count": 15,
   "metadata": {
    "colab": {},
    "colab_type": "code",
    "id": "YVdiWWXeFgv2"
   },
   "outputs": [],
   "source": [
    "def load_data(data_file):\n",
    "    \"\"\"Load data from CSV to Pandas DataFrame.\n",
    "    \"\"\"\n",
    "    # Load into DataFrame\n",
    "    df = pd.read_csv(data_file, header=0)\n",
    "    print (\"==> 🍣 Raw data:\")\n",
    "    print (df.head())\n",
    "    return df"
   ]
  },
  {
   "cell_type": "markdown",
   "metadata": {
    "colab_type": "text",
    "id": "gySOcLTGMvfW"
   },
   "source": [
    "### Operations"
   ]
  },
  {
   "cell_type": "code",
   "execution_count": 16,
   "metadata": {
    "colab": {
     "base_uri": "https://localhost:8080/",
     "height": 51
    },
    "colab_type": "code",
    "id": "tez_Cw6D4nNt",
    "outputId": "b979febc-22ee-4b66-caf9-f26f7fb65cc4"
   },
   "outputs": [],
   "source": [
    "# Get data from GitHub\n",
    "#get_data(data_url=config[\"data_url\"], data_file=config[\"data_file\"])"
   ]
  },
  {
   "cell_type": "code",
   "execution_count": 17,
   "metadata": {
    "colab": {
     "base_uri": "https://localhost:8080/",
     "height": 136
    },
    "colab_type": "code",
    "id": "1aBxFopR4nVg",
    "outputId": "e96595d5-278e-4a56-8c33-eb33a14a6b9a"
   },
   "outputs": [
    {
     "name": "stdout",
     "output_type": "stream",
     "text": [
      "==> 🍣 Raw data:\n",
      "    surname nationality\n",
      "0  Woodford     English\n",
      "1      Coté      French\n",
      "2      Kore     English\n",
      "3     Koury      Arabic\n",
      "4    Lebzak     Russian\n"
     ]
    }
   ],
   "source": [
    "# Load data into Pandas DataFrame\n",
    "df = load_data(data_file=config[\"data_file\"])"
   ]
  },
  {
   "cell_type": "markdown",
   "metadata": {
    "colab_type": "text",
    "id": "4VRVh0lZO5JU"
   },
   "source": [
    "# Split data"
   ]
  },
  {
   "cell_type": "markdown",
   "metadata": {
    "colab_type": "text",
    "id": "AS4i8TvwThtK"
   },
   "source": [
    "Split the data into train, validation and test sets where each split has similar class distributions. "
   ]
  },
  {
   "cell_type": "code",
   "execution_count": 18,
   "metadata": {
    "colab": {},
    "colab_type": "code",
    "id": "yrF4j1nPVdUR"
   },
   "outputs": [],
   "source": [
    "import collections"
   ]
  },
  {
   "cell_type": "markdown",
   "metadata": {
    "colab_type": "text",
    "id": "1DMwuOhwPCk7"
   },
   "source": [
    "### Components"
   ]
  },
  {
   "cell_type": "code",
   "execution_count": 19,
   "metadata": {
    "colab": {},
    "colab_type": "code",
    "id": "DKcxEise4nfO"
   },
   "outputs": [],
   "source": [
    "def split_data(df, shuffle, train_size, val_size, test_size):\n",
    "    \"\"\"Split the data into train/val/test splits.\n",
    "    \"\"\"\n",
    "    # Split by category\n",
    "    by_category = collections.defaultdict(list)\n",
    "    for _, row in df.iterrows():\n",
    "        by_category[row.nationality].append(row.to_dict())\n",
    "    print (\"\\n==> 🛍️ Categories:\")\n",
    "    for category in by_category:\n",
    "        print (\"{0}: {1}\".format(category, len(by_category[category])))\n",
    "\n",
    "    # Create split data\n",
    "    final_list = []\n",
    "    for _, item_list in sorted(by_category.items()):\n",
    "        if shuffle:\n",
    "            np.random.shuffle(item_list)\n",
    "        n = len(item_list)\n",
    "        n_train = int(train_size*n)\n",
    "        n_val = int(val_size*n)\n",
    "        n_test = int(test_size*n)\n",
    "\n",
    "      # Give data point a split attribute\n",
    "        for item in item_list[:n_train]:\n",
    "            item['split'] = 'train'\n",
    "        for item in item_list[n_train:n_train+n_val]:\n",
    "            item['split'] = 'val'\n",
    "        for item in item_list[n_train+n_val:]:\n",
    "            item['split'] = 'test'\n",
    "\n",
    "        # Add to final list\n",
    "        final_list.extend(item_list)\n",
    "\n",
    "    # df with split datasets\n",
    "    split_df = pd.DataFrame(final_list)\n",
    "    print (\"\\n==> 🖖 Splits:\")\n",
    "    print (split_df[\"split\"].value_counts())\n",
    "\n",
    "    return split_df"
   ]
  },
  {
   "cell_type": "markdown",
   "metadata": {
    "colab_type": "text",
    "id": "zpw_x_B-PDxS"
   },
   "source": [
    "### Operations"
   ]
  },
  {
   "cell_type": "code",
   "execution_count": 20,
   "metadata": {
    "colab": {
     "base_uri": "https://localhost:8080/",
     "height": 459
    },
    "colab_type": "code",
    "id": "cq54l2pk4ncu",
    "outputId": "c74ebe36-94db-4e57-b195-5005cc9edeeb"
   },
   "outputs": [
    {
     "name": "stdout",
     "output_type": "stream",
     "text": [
      "\n",
      "==> 🛍️ Categories:\n",
      "English: 2972\n",
      "French: 229\n",
      "Arabic: 1603\n",
      "Russian: 2373\n",
      "Japanese: 775\n",
      "Chinese: 220\n",
      "Italian: 600\n",
      "Czech: 414\n",
      "Irish: 183\n",
      "German: 576\n",
      "Greek: 156\n",
      "Spanish: 258\n",
      "Polish: 120\n",
      "Dutch: 236\n",
      "Vietnamese: 58\n",
      "Korean: 77\n",
      "Portuguese: 55\n",
      "Scottish: 75\n",
      "\n",
      "==> 🖖 Splits:\n",
      "train    7680\n",
      "test     1660\n",
      "val      1640\n",
      "Name: split, dtype: int64\n"
     ]
    }
   ],
   "source": [
    "# Split data\n",
    "split_df = split_data(\n",
    "    df=df, shuffle=config[\"shuffle\"],\n",
    "    train_size=config[\"train_size\"],\n",
    "    val_size=config[\"val_size\"],\n",
    "    test_size=config[\"test_size\"])"
   ]
  },
  {
   "cell_type": "markdown",
   "metadata": {
    "colab_type": "text",
    "id": "3Yi9RbtOP06X"
   },
   "source": [
    "# Preprocessing"
   ]
  },
  {
   "cell_type": "markdown",
   "metadata": {
    "colab_type": "text",
    "id": "jN-9ieA8TtTW"
   },
   "source": [
    "Preprocess the data in the DataFrame."
   ]
  },
  {
   "cell_type": "code",
   "execution_count": 21,
   "metadata": {
    "colab": {},
    "colab_type": "code",
    "id": "sVy_sX2mVhua"
   },
   "outputs": [],
   "source": [
    "import re"
   ]
  },
  {
   "cell_type": "markdown",
   "metadata": {
    "colab_type": "text",
    "id": "nA9FrU9LP2xE"
   },
   "source": [
    "### Components"
   ]
  },
  {
   "cell_type": "code",
   "execution_count": 22,
   "metadata": {
    "colab": {},
    "colab_type": "code",
    "id": "IHHr--K04na-"
   },
   "outputs": [],
   "source": [
    "def preprocess_text(text):\n",
    "    \"\"\"Basic text preprocessing.\n",
    "    \"\"\"\n",
    "    text = ' '.join(word.lower() for word in text.split(\" \"))\n",
    "    text = text.replace('\\n', ' ')\n",
    "    text = re.sub(r\"[^a-zA-Z.!?_]+\", r\" \", text)\n",
    "    text = text.strip()\n",
    "    return text"
   ]
  },
  {
   "cell_type": "code",
   "execution_count": 23,
   "metadata": {
    "colab": {},
    "colab_type": "code",
    "id": "FnSaB4GGP-8L"
   },
   "outputs": [],
   "source": [
    "def preprocess_data(df):\n",
    "    \"\"\" Preprocess the DataFrame.\n",
    "    \"\"\"\n",
    "    df.surname = df.surname.apply(preprocess_text)\n",
    "    print (\"\\n==> 🚿 Preprocessing:\")\n",
    "    print (df.head())\n",
    "    return df"
   ]
  },
  {
   "cell_type": "markdown",
   "metadata": {
    "colab_type": "text",
    "id": "m0RfghamP34u"
   },
   "source": [
    "### Operations"
   ]
  },
  {
   "cell_type": "code",
   "execution_count": 24,
   "metadata": {
    "colab": {
     "base_uri": "https://localhost:8080/",
     "height": 153
    },
    "colab_type": "code",
    "id": "qLRNMdHg4nZK",
    "outputId": "a440eac6-97bc-43b3-c3a6-42881294762a"
   },
   "outputs": [
    {
     "name": "stdout",
     "output_type": "stream",
     "text": [
      "\n",
      "==> 🚿 Preprocessing:\n",
      "  nationality  split  surname\n",
      "0      Arabic  train  bishara\n",
      "1      Arabic  train    nahas\n",
      "2      Arabic  train   ghanem\n",
      "3      Arabic  train  tannous\n",
      "4      Arabic  train  mikhail\n"
     ]
    }
   ],
   "source": [
    "# Preprocessing\n",
    "preprocessed_df = preprocess_data(split_df)"
   ]
  },
  {
   "cell_type": "markdown",
   "metadata": {
    "colab_type": "text",
    "id": "hPtdWOHGQXwQ"
   },
   "source": [
    "# Vocabulary"
   ]
  },
  {
   "cell_type": "markdown",
   "metadata": {
    "colab_type": "text",
    "id": "_oivqpaxTwy_"
   },
   "source": [
    "Create vocabularies for the surnames and nationality classes."
   ]
  },
  {
   "cell_type": "markdown",
   "metadata": {
    "colab_type": "text",
    "id": "Ast9gfliULvU"
   },
   "source": [
    "### Components"
   ]
  },
  {
   "cell_type": "code",
   "execution_count": 25,
   "metadata": {
    "colab": {},
    "colab_type": "code",
    "id": "F5eXfXlTP5pI"
   },
   "outputs": [],
   "source": [
    "class Vocabulary(object):\n",
    "    def __init__(self, token_to_idx=None, add_unk=True, unk_token=\"<UNK>\"):\n",
    "\n",
    "        # Token to index\n",
    "        if token_to_idx is None:\n",
    "            token_to_idx = {}\n",
    "        self.token_to_idx = token_to_idx\n",
    "\n",
    "        # Index to token\n",
    "        self.idx_to_token = {idx: token \\\n",
    "                             for token, idx in self.token_to_idx.items()}\n",
    "        \n",
    "        # Add unknown token\n",
    "        self.add_unk = add_unk\n",
    "        self.unk_token = unk_token\n",
    "        if self.add_unk:\n",
    "            self.unk_index = self.add_token(self.unk_token)\n",
    "\n",
    "    def to_serializable(self):\n",
    "        return {'token_to_idx': self.token_to_idx,\n",
    "                'add_unk': self.add_unk, 'unk_token': self.unk_token}\n",
    "\n",
    "    @classmethod\n",
    "    def from_serializable(cls, contents):\n",
    "        return cls(**contents)\n",
    "\n",
    "    def add_token(self, token):\n",
    "        if token in self.token_to_idx:\n",
    "            index = self.token_to_idx[token]\n",
    "        else:\n",
    "            index = len(self.token_to_idx)\n",
    "            self.token_to_idx[token] = index\n",
    "            self.idx_to_token[index] = token\n",
    "        return index\n",
    "\n",
    "    def add_tokens(self, tokens):\n",
    "        return [self.add_token[token] for token in tokens]\n",
    "\n",
    "    def lookup_token(self, token):\n",
    "        if self.add_unk:\n",
    "            index = self.token_to_idx.get(token, self.unk_index)\n",
    "        else:\n",
    "            index =  self.token_to_idx[token]\n",
    "        return index\n",
    "\n",
    "    def lookup_index(self, index):\n",
    "        if index not in self.idx_to_token:\n",
    "            raise KeyError(\"the index (%d) is not in the Vocabulary\" % index)\n",
    "        return self.idx_to_token[index]\n",
    "\n",
    "    def __str__(self):\n",
    "        return \"<Vocabulary(size=%d)>\" % len(self)\n",
    "\n",
    "    def __len__(self):\n",
    "        return len(self.token_to_idx)"
   ]
  },
  {
   "cell_type": "markdown",
   "metadata": {
    "colab_type": "text",
    "id": "7av4XJw9UOZO"
   },
   "source": [
    "### Operations"
   ]
  },
  {
   "cell_type": "code",
   "execution_count": 26,
   "metadata": {
    "colab": {
     "base_uri": "https://localhost:8080/",
     "height": 85
    },
    "colab_type": "code",
    "id": "aFI3w39WP5to",
    "outputId": "f3ca1663-355a-40c2-93da-f7fedf0e8711"
   },
   "outputs": [
    {
     "name": "stdout",
     "output_type": "stream",
     "text": [
      "<Vocabulary(size=18)>\n",
      "18\n",
      "4\n",
      "English\n"
     ]
    }
   ],
   "source": [
    "# Vocabulary instance\n",
    "nationality_vocab = Vocabulary(add_unk=False)\n",
    "for index, row in preprocessed_df.iterrows():\n",
    "    nationality_vocab.add_token(row.nationality)\n",
    "print (nationality_vocab) # __str__\n",
    "print (len(nationality_vocab)) # __len__\n",
    "index = nationality_vocab.lookup_token(\"English\")\n",
    "print (index)\n",
    "print (nationality_vocab.lookup_index(index))"
   ]
  },
  {
   "cell_type": "markdown",
   "metadata": {
    "colab_type": "text",
    "id": "wt6sCsBu238H"
   },
   "source": [
    "# Vectorizer"
   ]
  },
  {
   "cell_type": "markdown",
   "metadata": {
    "colab_type": "text",
    "id": "2F-_ZVD0Ul_h"
   },
   "source": [
    "Vectorizes our data into numerical form using the vocabularies."
   ]
  },
  {
   "cell_type": "markdown",
   "metadata": {
    "colab_type": "text",
    "id": "CqUbp3-MUrbp"
   },
   "source": [
    "### Components"
   ]
  },
  {
   "cell_type": "code",
   "execution_count": 27,
   "metadata": {
    "colab": {},
    "colab_type": "code",
    "id": "lFSaEs4L2TkY"
   },
   "outputs": [],
   "source": [
    "class SurnameVectorizer(object):\n",
    "    def __init__(self, surname_vocab, nationality_vocab):\n",
    "        self.surname_vocab = surname_vocab\n",
    "        self.nationality_vocab = nationality_vocab\n",
    "\n",
    "    def vectorize(self, surname):\n",
    "        one_hot = np.zeros(len(self.surname_vocab), dtype=np.float32)\n",
    "        for token in surname:\n",
    "            one_hot[self.surname_vocab.lookup_token(token)] = 1\n",
    "        return one_hot\n",
    "\n",
    "    def unvectorize(self, one_hot):\n",
    "        surname = [vectorizer.surname_vocab.lookup_index(index) \\\n",
    "            for index in np.where(one_hot==1)[0]]\n",
    "        return surname\n",
    "        \n",
    "    @classmethod\n",
    "    def from_dataframe(cls, df):\n",
    "        surname_vocab = Vocabulary(add_unk=True)\n",
    "        nationality_vocab = Vocabulary(add_unk=False)\n",
    "\n",
    "        # Create vocabularies\n",
    "        for index, row in df.iterrows():\n",
    "            for letter in row.surname: # char-level tokenization\n",
    "                surname_vocab.add_token(letter)\n",
    "            nationality_vocab.add_token(row.nationality)\n",
    "        return cls(surname_vocab, nationality_vocab)\n",
    "\n",
    "    @classmethod\n",
    "    def from_serializable(cls, contents):\n",
    "        surname_vocab = Vocabulary.from_serializable(contents['surname_vocab'])\n",
    "        nationality_vocab =  Vocabulary.from_serializable(contents['nationality_vocab'])\n",
    "        return cls(surname_vocab, nationality_vocab)\n",
    "\n",
    "    def to_serializable(self):\n",
    "        return {'surname_vocab': self.surname_vocab.to_serializable(),\n",
    "                'nationality_vocab': self.nationality_vocab.to_serializable()}"
   ]
  },
  {
   "cell_type": "markdown",
   "metadata": {
    "colab_type": "text",
    "id": "UzZDR-ehUt3x"
   },
   "source": [
    "### Operations"
   ]
  },
  {
   "cell_type": "code",
   "execution_count": 28,
   "metadata": {
    "colab": {
     "base_uri": "https://localhost:8080/",
     "height": 102
    },
    "colab_type": "code",
    "id": "IBf2a0nz4Ji_",
    "outputId": "dae5cba1-e84e-40df-8b9f-5ab43305283d"
   },
   "outputs": [
    {
     "name": "stdout",
     "output_type": "stream",
     "text": [
      "<Vocabulary(size=28)>\n",
      "<Vocabulary(size=18)>\n",
      "[0. 0. 0. 0. 0. 0. 0. 0. 1. 0. 0. 0. 1. 1. 1. 0. 0. 0. 0. 0. 0. 0. 0. 0.\n",
      " 0. 0. 0. 0.]\n",
      "['g', 'o', 'u', 'k']\n"
     ]
    }
   ],
   "source": [
    "# Vectorizer instance\n",
    "vectorizer = SurnameVectorizer.from_dataframe(preprocessed_df)\n",
    "print (vectorizer.surname_vocab)\n",
    "print (vectorizer.nationality_vocab)\n",
    "one_hot = vectorizer.vectorize(preprocess_text(\"goku\"))\n",
    "print (one_hot)\n",
    "print (vectorizer.unvectorize(one_hot))"
   ]
  },
  {
   "cell_type": "markdown",
   "metadata": {
    "colab_type": "text",
    "id": "N0QYigLGZJ6G"
   },
   "source": [
    "**Note**: When we vectorize our input with bagged one hot encoded format, we lose all the structure in our name. This is a major disadvantage of representing our text in bagged one-hot encoded form but we will explore more semantic structure preserving encoding methods later."
   ]
  },
  {
   "cell_type": "markdown",
   "metadata": {
    "colab_type": "text",
    "id": "vT7q4sh558yh"
   },
   "source": [
    "# Dataset"
   ]
  },
  {
   "cell_type": "markdown",
   "metadata": {
    "colab_type": "text",
    "id": "zaYqIwyUVkOq"
   },
   "source": [
    "The Dataset will create vectorized data from the preprocessed data."
   ]
  },
  {
   "cell_type": "code",
   "execution_count": 29,
   "metadata": {
    "colab": {},
    "colab_type": "code",
    "id": "4fYxY_Eq-Tso"
   },
   "outputs": [],
   "source": [
    "import random\n",
    "from torch.utils.data import Dataset, DataLoader"
   ]
  },
  {
   "cell_type": "markdown",
   "metadata": {
    "colab_type": "text",
    "id": "8aek-rFOVrEw"
   },
   "source": [
    "### Components"
   ]
  },
  {
   "cell_type": "code",
   "execution_count": 30,
   "metadata": {
    "colab": {},
    "colab_type": "code",
    "id": "XFQf4ikx5pp1"
   },
   "outputs": [],
   "source": [
    "class SurnameDataset(Dataset):\n",
    "    def __init__(self, df, vectorizer, infer=False):\n",
    "        self.df = df\n",
    "        self.vectorizer = vectorizer\n",
    "        \n",
    "        # Data splits\n",
    "        if not infer:\n",
    "            self.train_df = self.df[self.df.split=='train']\n",
    "            self.train_size = len(self.train_df)\n",
    "            self.val_df = self.df[self.df.split=='val']\n",
    "            self.val_size = len(self.val_df)\n",
    "            self.test_df = self.df[self.df.split=='test']\n",
    "            self.test_size = len(self.test_df)\n",
    "            self.lookup_dict = {'train': (self.train_df, self.train_size), \n",
    "                                'val': (self.val_df, self.val_size),\n",
    "                                'test': (self.test_df, self.test_size)}\n",
    "            self.set_split('train')\n",
    "\n",
    "            # Class weights (for imbalances)\n",
    "            class_counts = df.nationality.value_counts().to_dict()\n",
    "            def sort_key(item):\n",
    "                return self.vectorizer.nationality_vocab.lookup_token(item[0])\n",
    "            sorted_counts = sorted(class_counts.items(), key=sort_key)\n",
    "            frequencies = [count for _, count in sorted_counts]\n",
    "            self.class_weights = 1.0 / torch.tensor(frequencies, dtype=torch.float32)\n",
    "        elif infer:\n",
    "            self.infer_df = self.df[self.df.split==\"infer\"]\n",
    "            self.infer_size = len(self.infer_df)\n",
    "            self.lookup_dict = {'infer': (self.infer_df, self.infer_size)}\n",
    "            self.set_split('infer')\n",
    "\n",
    "    @classmethod\n",
    "    def load_dataset_and_make_vectorizer(cls, df):\n",
    "        train_df = df[df.split=='train']\n",
    "        return cls(df, SurnameVectorizer.from_dataframe(train_df))\n",
    "\n",
    "    @classmethod\n",
    "    def load_dataset_and_load_vectorizer(cls, df, vectorizer_filepath):\n",
    "        vectorizer = cls.load_vectorizer_only(vectorizer_filepath)\n",
    "        return cls(df, vectorizer)\n",
    "\n",
    "    def load_vectorizer_only(vectorizer_filepath):\n",
    "        with open(vectorizer_filepath) as fp:\n",
    "            return SurnameVectorizer.from_serializable(json.load(fp))\n",
    "\n",
    "    def save_vectorizer(self, vectorizer_filepath):\n",
    "        with open(vectorizer_filepath, \"w\") as fp:\n",
    "            json.dump(self.vectorizer.to_serializable(), fp)\n",
    "\n",
    "    def set_split(self, split=\"train\"):\n",
    "        self.target_split = split\n",
    "        self.target_df, self.target_size = self.lookup_dict[split]\n",
    "\n",
    "    def __str__(self):\n",
    "        return \"<Dataset(split={0}, size={1})>\".format(\n",
    "            self.target_split, self.target_size)\n",
    "\n",
    "    def __len__(self):\n",
    "        return self.target_size\n",
    "\n",
    "    def __getitem__(self, index):\n",
    "        row = self.target_df.iloc[index]\n",
    "        surname_vector = self.vectorizer.vectorize(row.surname)\n",
    "        nationality_index = self.vectorizer.nationality_vocab.lookup_token(row.nationality)\n",
    "        return {'surname': surname_vector, 'nationality': nationality_index}\n",
    "\n",
    "    def get_num_batches(self, batch_size):\n",
    "        return len(self) // batch_size\n",
    "\n",
    "    def generate_batches(self, batch_size, shuffle=True, drop_last=False, device=\"cpu\"):\n",
    "        dataloader = DataLoader(dataset=self, batch_size=batch_size, \n",
    "                                shuffle=shuffle, drop_last=drop_last)\n",
    "        for data_dict in dataloader:\n",
    "            out_data_dict = {}\n",
    "            for name, tensor in data_dict.items():\n",
    "                out_data_dict[name] = data_dict[name].to(device)\n",
    "            yield out_data_dict"
   ]
  },
  {
   "cell_type": "code",
   "execution_count": 31,
   "metadata": {
    "colab": {},
    "colab_type": "code",
    "id": "IkozejHzV51b"
   },
   "outputs": [],
   "source": [
    "def sample(dataset):\n",
    "    \"\"\"Some sanity checks on the dataset.\n",
    "    \"\"\"\n",
    "    sample_idx = random.randint(0,len(dataset))\n",
    "    sample = dataset[sample_idx]\n",
    "    print (\"\\n==> 🔢 Dataset:\")\n",
    "    print (\"Random sample: {0}\".format(sample))\n",
    "    print (\"Unvectorized surname: {0}\".format(\n",
    "        dataset.vectorizer.unvectorize(sample['surname'])))\n",
    "    print (\"Unvectorized nationality: {0}\".format(\n",
    "        dataset.vectorizer.nationality_vocab.lookup_index(sample['nationality'])))"
   ]
  },
  {
   "cell_type": "markdown",
   "metadata": {
    "colab_type": "text",
    "id": "KjjsaFnMVt3y"
   },
   "source": [
    "### Operations"
   ]
  },
  {
   "cell_type": "code",
   "execution_count": 32,
   "metadata": {
    "colab": {
     "base_uri": "https://localhost:8080/",
     "height": 51
    },
    "colab_type": "code",
    "id": "QhAJn2H3-vvu",
    "outputId": "0cf90db7-b812-45f1-f578-0b4185cd6b74"
   },
   "outputs": [
    {
     "name": "stdout",
     "output_type": "stream",
     "text": [
      "tensor([0.0006, 0.0045, 0.0024, 0.0042, 0.0003, 0.0044, 0.0017, 0.0064, 0.0055,\n",
      "        0.0017, 0.0013, 0.0130, 0.0083, 0.0182, 0.0004, 0.0133, 0.0039, 0.0172])\n"
     ]
    }
   ],
   "source": [
    "# Load dataset and vectorizer\n",
    "dataset = SurnameDataset.load_dataset_and_make_vectorizer(preprocessed_df)\n",
    "dataset.save_vectorizer(config[\"vectorizer_file\"])\n",
    "vectorizer = dataset.vectorizer\n",
    "print (dataset.class_weights)"
   ]
  },
  {
   "cell_type": "code",
   "execution_count": 33,
   "metadata": {
    "colab": {
     "base_uri": "https://localhost:8080/",
     "height": 119
    },
    "colab_type": "code",
    "id": "Jt_tb9ZqWRrt",
    "outputId": "84c75171-23de-4b4d-856c-e2a91cfec9c3"
   },
   "outputs": [
    {
     "name": "stdout",
     "output_type": "stream",
     "text": [
      "\n",
      "==> 🔢 Dataset:\n",
      "Random sample: {'surname': array([0., 0., 0., 0., 0., 0., 0., 1., 0., 0., 0., 1., 1., 1., 0., 1., 0.,\n",
      "       0., 0., 0., 0., 0., 0., 0., 0., 1., 0., 0.], dtype=float32), 'nationality': 4}\n",
      "Unvectorized surname: ['n', 't', 'o', 'u', 'l', 'x']\n",
      "Unvectorized nationality: English\n"
     ]
    }
   ],
   "source": [
    "# Sample checks\n",
    "sample(dataset=dataset)"
   ]
  },
  {
   "cell_type": "markdown",
   "metadata": {
    "colab_type": "text",
    "id": "q8CAcVWRCVtm"
   },
   "source": [
    "# Model"
   ]
  },
  {
   "cell_type": "markdown",
   "metadata": {
    "colab_type": "text",
    "id": "3JZ9whVlXBaZ"
   },
   "source": [
    "Basic MLP architecture for surname classification."
   ]
  },
  {
   "cell_type": "code",
   "execution_count": 34,
   "metadata": {
    "colab": {},
    "colab_type": "code",
    "id": "K4yDxHIe_hGv"
   },
   "outputs": [],
   "source": [
    "import torch.nn as nn\n",
    "import torch.nn.functional as F"
   ]
  },
  {
   "cell_type": "markdown",
   "metadata": {
    "colab_type": "text",
    "id": "CFLBjYseXDFK"
   },
   "source": [
    "### Components"
   ]
  },
  {
   "cell_type": "code",
   "execution_count": 35,
   "metadata": {
    "colab": {},
    "colab_type": "code",
    "id": "_bbJqIPRCbuZ"
   },
   "outputs": [],
   "source": [
    "class SurnameModel(nn.Module):\n",
    "    def __init__(self, input_dim, hidden_dim, output_dim, dropout_p):\n",
    "        super(SurnameModel, self).__init__()\n",
    "        self.fc1 = nn.Linear(input_dim, hidden_dim)\n",
    "        self.dropout = nn.Dropout(dropout_p)\n",
    "        self.fc2 = nn.Linear(hidden_dim, output_dim)\n",
    "\n",
    "    def forward(self, x_in, apply_softmax=False):\n",
    "        z = F.relu(self.fc1(x_in))\n",
    "        z = self.dropout(z)\n",
    "        y_pred = self.fc2(z)\n",
    "\n",
    "        if apply_softmax:\n",
    "            y_pred = F.softmax(y_pred, dim=1)\n",
    "        return y_pred"
   ]
  },
  {
   "cell_type": "code",
   "execution_count": 36,
   "metadata": {
    "colab": {},
    "colab_type": "code",
    "id": "mIN_9XWAXEfH"
   },
   "outputs": [],
   "source": [
    "def initialize_model(config, vectorizer):\n",
    "    \"\"\"Initialize the model.\n",
    "    \"\"\"\n",
    "    print (\"\\n==> 🚀 Initializing model:\")\n",
    "    model = SurnameModel(\n",
    "        input_dim=len(vectorizer.surname_vocab), \n",
    "        hidden_dim=config[\"fc\"][\"hidden_dim\"], \n",
    "        output_dim=len(vectorizer.nationality_vocab),\n",
    "        dropout_p=config[\"fc\"][\"dropout_p\"])\n",
    "    print (model.named_modules)\n",
    "    return model"
   ]
  },
  {
   "cell_type": "markdown",
   "metadata": {
    "colab_type": "text",
    "id": "pSAixX_PXElV"
   },
   "source": [
    "### Operations"
   ]
  },
  {
   "cell_type": "code",
   "execution_count": 37,
   "metadata": {
    "colab": {
     "base_uri": "https://localhost:8080/",
     "height": 136
    },
    "colab_type": "code",
    "id": "93KUSpSGXGNN",
    "outputId": "0844aa10-94c9-4753-fcbb-654edde5cd3e"
   },
   "outputs": [
    {
     "name": "stdout",
     "output_type": "stream",
     "text": [
      "\n",
      "==> 🚀 Initializing model:\n",
      "<bound method Module.named_modules of SurnameModel(\n",
      "  (fc1): Linear(in_features=28, out_features=300, bias=True)\n",
      "  (dropout): Dropout(p=0.1)\n",
      "  (fc2): Linear(in_features=300, out_features=18, bias=True)\n",
      ")>\n"
     ]
    }
   ],
   "source": [
    "# Initializing model\n",
    "model = initialize_model(config=config, vectorizer=vectorizer)"
   ]
  },
  {
   "cell_type": "markdown",
   "metadata": {
    "colab_type": "text",
    "id": "p0Hr9OohDmPI"
   },
   "source": [
    "# Training"
   ]
  },
  {
   "cell_type": "markdown",
   "metadata": {
    "colab_type": "text",
    "id": "lQOmETa5X8XW"
   },
   "source": [
    "Training operations for surname classification."
   ]
  },
  {
   "cell_type": "code",
   "execution_count": 38,
   "metadata": {
    "colab": {},
    "colab_type": "code",
    "id": "UWYC2MfiKh8o"
   },
   "outputs": [],
   "source": [
    "import matplotlib.pyplot as plt\n",
    "import torch.optim as optim"
   ]
  },
  {
   "cell_type": "markdown",
   "metadata": {
    "colab_type": "text",
    "id": "r9HarbSza9QM"
   },
   "source": [
    "### Components"
   ]
  },
  {
   "cell_type": "code",
   "execution_count": 39,
   "metadata": {
    "colab": {},
    "colab_type": "code",
    "id": "8qbr6A3yrgaU"
   },
   "outputs": [],
   "source": [
    "def compute_accuracy(y_pred, y_target):\n",
    "    _, y_pred_indices = y_pred.max(dim=1)\n",
    "    n_correct = torch.eq(y_pred_indices, y_target).sum().item()\n",
    "    return n_correct / len(y_pred_indices) * 100"
   ]
  },
  {
   "cell_type": "code",
   "execution_count": 40,
   "metadata": {
    "colab": {},
    "colab_type": "code",
    "id": "1hrrkLS2ra0K"
   },
   "outputs": [],
   "source": [
    "def update_train_state(model, train_state):\n",
    "    \"\"\" Update train state during training.\n",
    "    \"\"\"\n",
    "    # Verbose\n",
    "    print (\"[EPOCH]: {0} | [LR]: {1} | [TRAIN LOSS]: {2:.2f} | [TRAIN ACC]: {3:.1f}% | [VAL LOSS]: {4:.2f} | [VAL ACC]: {5:.1f}%\".format(\n",
    "      train_state['epoch_index'], train_state['learning_rate'], \n",
    "        train_state['train_loss'][-1], train_state['train_acc'][-1], \n",
    "        train_state['val_loss'][-1], train_state['val_acc'][-1]))\n",
    "\n",
    "    # Save one model at least\n",
    "    if train_state['epoch_index'] == 0:\n",
    "        torch.save(model.state_dict(), train_state['model_filename'])\n",
    "        train_state['stop_early'] = False\n",
    "\n",
    "    # Save model if performance improved\n",
    "    elif train_state['epoch_index'] >= 1:\n",
    "        loss_tm1, loss_t = train_state['val_loss'][-2:]\n",
    "\n",
    "        # If loss worsened\n",
    "        if loss_t >= train_state['early_stopping_best_val']:\n",
    "            # Update step\n",
    "            train_state['early_stopping_step'] += 1\n",
    "\n",
    "        # Loss decreased\n",
    "        else:\n",
    "            # Save the best model\n",
    "            if loss_t < train_state['early_stopping_best_val']:\n",
    "                torch.save(model.state_dict(), train_state['model_filename'])\n",
    "\n",
    "            # Reset early stopping step\n",
    "            train_state['early_stopping_step'] = 0\n",
    "\n",
    "        # Stop early ?\n",
    "        train_state['stop_early'] = train_state['early_stopping_step'] \\\n",
    "          >= train_state['early_stopping_criteria']\n",
    "    return train_state"
   ]
  },
  {
   "cell_type": "code",
   "execution_count": 41,
   "metadata": {
    "colab": {},
    "colab_type": "code",
    "id": "dAux5rEXsjPj"
   },
   "outputs": [],
   "source": [
    "class Trainer(object):\n",
    "    def __init__(self, dataset, model, model_file, device, shuffle, \n",
    "               num_epochs, batch_size, learning_rate, early_stopping_criteria):\n",
    "        self.dataset = dataset\n",
    "        self.class_weights = dataset.class_weights.to(device)\n",
    "        self.model = model.to(device)\n",
    "        self.device = device\n",
    "        self.shuffle = shuffle\n",
    "        self.num_epochs = num_epochs\n",
    "        self.batch_size = batch_size\n",
    "        self.loss_func = nn.CrossEntropyLoss(self.class_weights)\n",
    "        self.optimizer = optim.Adam(self.model.parameters(), lr=learning_rate)\n",
    "        self.scheduler = optim.lr_scheduler.ReduceLROnPlateau(\n",
    "            optimizer=self.optimizer, mode='min', factor=0.5, patience=1)\n",
    "        self.train_state = {\n",
    "            'done_training': False,\n",
    "            'stop_early': False, \n",
    "            'early_stopping_step': 0,\n",
    "            'early_stopping_best_val': 1e8,\n",
    "            'early_stopping_criteria': early_stopping_criteria,\n",
    "            'learning_rate': learning_rate,\n",
    "            'epoch_index': 0,\n",
    "            'train_loss': [],\n",
    "            'train_acc': [],\n",
    "            'val_loss': [],\n",
    "            'val_acc': [],\n",
    "            'test_loss': -1,\n",
    "            'test_acc': -1,\n",
    "            'model_filename': model_file}\n",
    "  \n",
    "    def run_train_loop(self):\n",
    "        print (\"==> 🏋 Training:\")\n",
    "        for epoch_index in range(self.num_epochs):\n",
    "            self.train_state['epoch_index'] = epoch_index\n",
    "      \n",
    "            # Iterate over train dataset\n",
    "\n",
    "            # initialize batch generator, set loss and acc to 0, set train mode on\n",
    "            self.dataset.set_split('train')\n",
    "            batch_generator = self.dataset.generate_batches(\n",
    "                batch_size=self.batch_size, shuffle=self.shuffle, \n",
    "                device=self.device)\n",
    "            running_loss = 0.0\n",
    "            running_acc = 0.0\n",
    "            self.model.train()\n",
    "\n",
    "            for batch_index, batch_dict in enumerate(batch_generator):\n",
    "                # zero the gradients\n",
    "                self.optimizer.zero_grad()\n",
    "\n",
    "                # compute the output\n",
    "                y_pred = self.model(batch_dict['surname'])\n",
    "\n",
    "                # compute the loss\n",
    "                loss = self.loss_func(y_pred, batch_dict['nationality'])\n",
    "                loss_t = loss.item()\n",
    "                running_loss += (loss_t - running_loss) / (batch_index + 1)\n",
    "\n",
    "                # compute gradients using loss\n",
    "                loss.backward()\n",
    "\n",
    "                # use optimizer to take a gradient step\n",
    "                self.optimizer.step()\n",
    "                \n",
    "                # compute the accuracy\n",
    "                acc_t = compute_accuracy(y_pred, batch_dict['nationality'])\n",
    "                running_acc += (acc_t - running_acc) / (batch_index + 1)\n",
    "\n",
    "            self.train_state['train_loss'].append(running_loss)\n",
    "            self.train_state['train_acc'].append(running_acc)\n",
    "\n",
    "            # Iterate over val dataset\n",
    "\n",
    "            # initialize batch generator, set loss and acc to 0; set eval mode on\n",
    "            self.dataset.set_split('val')\n",
    "            batch_generator = self.dataset.generate_batches(\n",
    "                batch_size=self.batch_size, shuffle=self.shuffle, device=self.device)\n",
    "            running_loss = 0.\n",
    "            running_acc = 0.\n",
    "            self.model.eval()\n",
    "\n",
    "            for batch_index, batch_dict in enumerate(batch_generator):\n",
    "\n",
    "                # compute the output\n",
    "                y_pred =  self.model(batch_dict['surname'])\n",
    "\n",
    "                # compute the loss\n",
    "                loss = self.loss_func(y_pred, batch_dict['nationality'])\n",
    "                loss_t = loss.to(\"cpu\").item()\n",
    "                running_loss += (loss_t - running_loss) / (batch_index + 1)\n",
    "\n",
    "                # compute the accuracy\n",
    "                acc_t = compute_accuracy(y_pred, batch_dict['nationality'])\n",
    "                running_acc += (acc_t - running_acc) / (batch_index + 1)\n",
    "\n",
    "            self.train_state['val_loss'].append(running_loss)\n",
    "            self.train_state['val_acc'].append(running_acc)\n",
    "\n",
    "            self.train_state = update_train_state(model=self.model, train_state=self.train_state)\n",
    "            self.scheduler.step(self.train_state['val_loss'][-1])\n",
    "            if self.train_state['stop_early']:\n",
    "                break\n",
    "          \n",
    "    def run_test_loop(self):\n",
    "        # initialize batch generator, set loss and acc to 0; set eval mode on\n",
    "        self.dataset.set_split('test')\n",
    "        batch_generator = self.dataset.generate_batches(\n",
    "            batch_size=self.batch_size, shuffle=self.shuffle, device=self.device)\n",
    "        running_loss = 0.0\n",
    "        running_acc = 0.0\n",
    "        self.model.eval()\n",
    "\n",
    "        for batch_index, batch_dict in enumerate(batch_generator):\n",
    "            # compute the output\n",
    "            y_pred =  self.model(batch_dict['surname'])\n",
    "\n",
    "            # compute the loss\n",
    "            loss = self.loss_func(y_pred, batch_dict['nationality'])\n",
    "            loss_t = loss.item()\n",
    "            running_loss += (loss_t - running_loss) / (batch_index + 1)\n",
    "\n",
    "            # compute the accuracy\n",
    "            acc_t = compute_accuracy(y_pred, batch_dict['nationality'])\n",
    "            running_acc += (acc_t - running_acc) / (batch_index + 1)\n",
    "\n",
    "        self.train_state['test_loss'] = running_loss\n",
    "        self.train_state['test_acc'] = running_acc\n",
    "        \n",
    "        # Verbose\n",
    "        print (\"==> 💯 Test performance:\")\n",
    "        print (\"Test loss: {0:.2f}\".format(self.train_state['test_loss']))\n",
    "        print (\"Test Accuracy: {0:.1f}%\".format(self.train_state['test_acc']))"
   ]
  },
  {
   "cell_type": "code",
   "execution_count": 42,
   "metadata": {
    "colab": {},
    "colab_type": "code",
    "id": "XUCncj-Br2y1"
   },
   "outputs": [],
   "source": [
    "def plot_performance(train_state, save_dir, show_plot=True):\n",
    "    \"\"\" Plot loss and accuracy.\n",
    "    \"\"\"\n",
    "    # Figure size\n",
    "    plt.figure(figsize=(15,5))\n",
    "\n",
    "    # Plot Loss\n",
    "    plt.subplot(1, 2, 1)\n",
    "    plt.title(\"Loss\")\n",
    "    plt.plot(train_state[\"train_loss\"], label=\"train\")\n",
    "    plt.plot(train_state[\"val_loss\"], label=\"val\")\n",
    "    plt.legend(loc='upper right')\n",
    "\n",
    "    # Plot Accuracy\n",
    "    plt.subplot(1, 2, 2)\n",
    "    plt.title(\"Accuracy\")\n",
    "    plt.plot(train_state[\"train_acc\"], label=\"train\")\n",
    "    plt.plot(train_state[\"val_acc\"], label=\"val\")\n",
    "    plt.legend(loc='lower right')\n",
    "\n",
    "    # Save figure\n",
    "    plt.savefig(os.path.join(save_dir, \"performance.png\"))\n",
    "\n",
    "    # Show plots\n",
    "    if show_plot:\n",
    "        print (\"==> 📈 Metric plots:\")\n",
    "        plt.show()"
   ]
  },
  {
   "cell_type": "code",
   "execution_count": 43,
   "metadata": {
    "colab": {},
    "colab_type": "code",
    "id": "XubhezdeshJX"
   },
   "outputs": [],
   "source": [
    "def save_train_state(train_state, save_dir):\n",
    "    train_state[\"done_training\"] = True\n",
    "    with open(os.path.join(save_dir, \"train_state.json\"), \"w\") as fp:\n",
    "        json.dump(train_state, fp)\n",
    "    print (\"==> ✅ Training complete!\")"
   ]
  },
  {
   "cell_type": "markdown",
   "metadata": {
    "colab_type": "text",
    "id": "ypH3nwWTbGgQ"
   },
   "source": [
    "### Operations"
   ]
  },
  {
   "cell_type": "code",
   "execution_count": 44,
   "metadata": {
    "colab": {
     "base_uri": "https://localhost:8080/",
     "height": 374
    },
    "colab_type": "code",
    "id": "-5RrfYBpJFkg",
    "outputId": "13961f94-3481-470a-a38b-e33fe1ceb3f2"
   },
   "outputs": [
    {
     "name": "stdout",
     "output_type": "stream",
     "text": [
      "==> 🏋 Training:\n",
      "[EPOCH]: 0 | [LR]: 0.001 | [TRAIN LOSS]: 2.80 | [TRAIN ACC]: 24.6% | [VAL LOSS]: 2.68 | [VAL ACC]: 38.4%\n",
      "[EPOCH]: 1 | [LR]: 0.001 | [TRAIN LOSS]: 2.52 | [TRAIN ACC]: 39.0% | [VAL LOSS]: 2.42 | [VAL ACC]: 39.2%\n",
      "[EPOCH]: 2 | [LR]: 0.001 | [TRAIN LOSS]: 2.27 | [TRAIN ACC]: 38.2% | [VAL LOSS]: 2.25 | [VAL ACC]: 36.8%\n",
      "[EPOCH]: 3 | [LR]: 0.001 | [TRAIN LOSS]: 2.12 | [TRAIN ACC]: 38.0% | [VAL LOSS]: 2.16 | [VAL ACC]: 36.3%\n",
      "[EPOCH]: 4 | [LR]: 0.001 | [TRAIN LOSS]: 2.02 | [TRAIN ACC]: 38.1% | [VAL LOSS]: 2.10 | [VAL ACC]: 39.6%\n",
      "[EPOCH]: 5 | [LR]: 0.001 | [TRAIN LOSS]: 1.96 | [TRAIN ACC]: 38.3% | [VAL LOSS]: 2.07 | [VAL ACC]: 36.5%\n",
      "[EPOCH]: 6 | [LR]: 0.001 | [TRAIN LOSS]: 1.91 | [TRAIN ACC]: 38.9% | [VAL LOSS]: 2.03 | [VAL ACC]: 37.0%\n",
      "[EPOCH]: 7 | [LR]: 0.001 | [TRAIN LOSS]: 1.87 | [TRAIN ACC]: 39.0% | [VAL LOSS]: 2.00 | [VAL ACC]: 37.0%\n",
      "[EPOCH]: 8 | [LR]: 0.001 | [TRAIN LOSS]: 1.84 | [TRAIN ACC]: 39.3% | [VAL LOSS]: 1.99 | [VAL ACC]: 36.8%\n",
      "[EPOCH]: 9 | [LR]: 0.001 | [TRAIN LOSS]: 1.81 | [TRAIN ACC]: 39.8% | [VAL LOSS]: 1.98 | [VAL ACC]: 38.2%\n",
      "[EPOCH]: 10 | [LR]: 0.001 | [TRAIN LOSS]: 1.78 | [TRAIN ACC]: 40.6% | [VAL LOSS]: 1.96 | [VAL ACC]: 40.6%\n",
      "[EPOCH]: 11 | [LR]: 0.001 | [TRAIN LOSS]: 1.76 | [TRAIN ACC]: 40.4% | [VAL LOSS]: 1.94 | [VAL ACC]: 38.9%\n",
      "[EPOCH]: 12 | [LR]: 0.001 | [TRAIN LOSS]: 1.75 | [TRAIN ACC]: 41.5% | [VAL LOSS]: 1.91 | [VAL ACC]: 37.8%\n",
      "[EPOCH]: 13 | [LR]: 0.001 | [TRAIN LOSS]: 1.72 | [TRAIN ACC]: 41.4% | [VAL LOSS]: 1.91 | [VAL ACC]: 39.5%\n",
      "[EPOCH]: 14 | [LR]: 0.001 | [TRAIN LOSS]: 1.70 | [TRAIN ACC]: 42.0% | [VAL LOSS]: 1.94 | [VAL ACC]: 37.7%\n",
      "[EPOCH]: 15 | [LR]: 0.001 | [TRAIN LOSS]: 1.67 | [TRAIN ACC]: 41.9% | [VAL LOSS]: 1.91 | [VAL ACC]: 39.1%\n",
      "[EPOCH]: 16 | [LR]: 0.001 | [TRAIN LOSS]: 1.66 | [TRAIN ACC]: 42.6% | [VAL LOSS]: 1.90 | [VAL ACC]: 40.1%\n",
      "[EPOCH]: 17 | [LR]: 0.001 | [TRAIN LOSS]: 1.65 | [TRAIN ACC]: 43.1% | [VAL LOSS]: 1.90 | [VAL ACC]: 40.1%\n",
      "[EPOCH]: 18 | [LR]: 0.001 | [TRAIN LOSS]: 1.63 | [TRAIN ACC]: 43.0% | [VAL LOSS]: 1.90 | [VAL ACC]: 38.2%\n",
      "[EPOCH]: 19 | [LR]: 0.001 | [TRAIN LOSS]: 1.63 | [TRAIN ACC]: 43.0% | [VAL LOSS]: 1.90 | [VAL ACC]: 40.2%\n"
     ]
    }
   ],
   "source": [
    "# Training\n",
    "trainer = Trainer(\n",
    "    dataset=dataset, model=model, model_file=config[\"model_file\"],\n",
    "    device=config[\"device\"], shuffle=config[\"shuffle\"], \n",
    "    num_epochs=config[\"num_epochs\"], batch_size=config[\"batch_size\"], \n",
    "    learning_rate=config[\"learning_rate\"], \n",
    "    early_stopping_criteria=config[\"early_stopping_criteria\"])\n",
    "trainer.run_train_loop()"
   ]
  },
  {
   "cell_type": "code",
   "execution_count": 45,
   "metadata": {
    "colab": {
     "base_uri": "https://localhost:8080/",
     "height": 352
    },
    "colab_type": "code",
    "id": "fgfpWoNRN_wu",
    "outputId": "e2bd29ea-99b4-4ca9-a290-15f15b771912"
   },
   "outputs": [
    {
     "name": "stdout",
     "output_type": "stream",
     "text": [
      "==> 📈 Metric plots:\n"
     ]
    },
    {
     "data": {
      "image/png": "[encoded data removed]",
      "text/plain": [
       "<Figure size 1080x360 with 2 Axes>"
      ]
     },
     "metadata": {
      "needs_background": "light"
     },
     "output_type": "display_data"
    }
   ],
   "source": [
    "# Plot performance\n",
    "plot_performance(train_state=trainer.train_state, \n",
    "                 save_dir=config[\"save_dir\"], show_plot=True)"
   ]
  },
  {
   "cell_type": "code",
   "execution_count": 46,
   "metadata": {
    "colab": {
     "base_uri": "https://localhost:8080/",
     "height": 68
    },
    "colab_type": "code",
    "id": "RAQROqCgfcQM",
    "outputId": "9294984b-9af4-46e8-bd0f-8fd66ce6eac1"
   },
   "outputs": [
    {
     "name": "stdout",
     "output_type": "stream",
     "text": [
      "==> 💯 Test performance:\n",
      "Test loss: 1.93\n",
      "Test Accuracy: 41.0%\n"
     ]
    }
   ],
   "source": [
    "# Test performance\n",
    "trainer.run_test_loop()"
   ]
  },
  {
   "cell_type": "code",
   "execution_count": 47,
   "metadata": {
    "colab": {
     "base_uri": "https://localhost:8080/",
     "height": 34
    },
    "colab_type": "code",
    "id": "bT0hnmy2vS26",
    "outputId": "ded1ddc8-7863-4444-8415-1b5f7cfbb5f4"
   },
   "outputs": [
    {
     "name": "stdout",
     "output_type": "stream",
     "text": [
      "==> ✅ Training complete!\n"
     ]
    }
   ],
   "source": [
    "# Save all results\n",
    "save_train_state(train_state=trainer.train_state, save_dir=config[\"save_dir\"])"
   ]
  },
  {
   "cell_type": "markdown",
   "metadata": {
    "colab_type": "text",
    "id": "EvWFdAz0jh4B"
   },
   "source": [
    "# Inference"
   ]
  },
  {
   "cell_type": "markdown",
   "metadata": {
    "colab_type": "text",
    "id": "15GopFNleSOC"
   },
   "source": [
    "Components to see how our trained model fares against unseen surnames."
   ]
  },
  {
   "cell_type": "markdown",
   "metadata": {
    "colab_type": "text",
    "id": "U7ZUTZbyeW8T"
   },
   "source": [
    "### Components"
   ]
  },
  {
   "cell_type": "code",
   "execution_count": 48,
   "metadata": {
    "colab": {},
    "colab_type": "code",
    "id": "8t2TD8KJhidm"
   },
   "outputs": [],
   "source": [
    "class Inference(object):\n",
    "    def __init__(self, model, vectorizer, device=\"cpu\"):\n",
    "        self.model = model.to(device)\n",
    "        self.vectorizer = vectorizer\n",
    "        self.device = device\n",
    "  \n",
    "    def predict_nationality(self, dataset):\n",
    "        # Batch generator\n",
    "        batch_generator = dataset.generate_batches(\n",
    "            batch_size=len(dataset), shuffle=False, device=self.device)\n",
    "        self.model.eval()\n",
    "        \n",
    "        # Predict\n",
    "        for batch_index, batch_dict in enumerate(batch_generator):\n",
    "            # compute the output\n",
    "            y_pred =  self.model(batch_dict['surname'], apply_softmax=True)\n",
    "\n",
    "            # Top k nationalities\n",
    "            y_prob, indices = torch.topk(y_pred, k=len(self.vectorizer.nationality_vocab))\n",
    "            probabilities = y_prob.detach().to('cpu').numpy()[0]\n",
    "            indices = indices.detach().to('cpu').numpy()[0]\n",
    "\n",
    "            results = []\n",
    "            for probability, index in zip(probabilities, indices):\n",
    "                nationality = self.vectorizer.nationality_vocab.lookup_index(index)\n",
    "                results.append({'nationality': nationality, 'probability': probability})\n",
    "\n",
    "        return results"
   ]
  },
  {
   "cell_type": "markdown",
   "metadata": {
    "colab_type": "text",
    "id": "7sMDPi4Ieb8f"
   },
   "source": [
    "### Operations"
   ]
  },
  {
   "cell_type": "code",
   "execution_count": 49,
   "metadata": {
    "colab": {},
    "colab_type": "code",
    "id": "i7TOy8tVVsOA"
   },
   "outputs": [],
   "source": [
    "# Load vectorizer\n",
    "with open(config[\"vectorizer_file\"]) as fp:\n",
    "    vectorizer = SurnameVectorizer.from_serializable(json.load(fp))"
   ]
  },
  {
   "cell_type": "code",
   "execution_count": 50,
   "metadata": {
    "colab": {
     "base_uri": "https://localhost:8080/",
     "height": 136
    },
    "colab_type": "code",
    "id": "9zlIp2uJcYHM",
    "outputId": "10b1d98d-c776-420f-fc41-e4527d65bd3c"
   },
   "outputs": [
    {
     "name": "stdout",
     "output_type": "stream",
     "text": [
      "\n",
      "==> 🚀 Initializing model:\n",
      "<bound method Module.named_modules of SurnameModel(\n",
      "  (fc1): Linear(in_features=28, out_features=300, bias=True)\n",
      "  (dropout): Dropout(p=0.1)\n",
      "  (fc2): Linear(in_features=300, out_features=18, bias=True)\n",
      ")>\n"
     ]
    }
   ],
   "source": [
    "# Load the model\n",
    "model = initialize_model(config=config, vectorizer=vectorizer)\n",
    "model.load_state_dict(torch.load(config[\"model_file\"]))"
   ]
  },
  {
   "cell_type": "code",
   "execution_count": 51,
   "metadata": {
    "colab": {},
    "colab_type": "code",
    "id": "fLf7chGfhnFs"
   },
   "outputs": [],
   "source": [
    "# Initialize\n",
    "inference = Inference(model=model, vectorizer=vectorizer, device=config[\"device\"])"
   ]
  },
  {
   "cell_type": "code",
   "execution_count": 52,
   "metadata": {
    "colab": {
     "base_uri": "https://localhost:8080/",
     "height": 357
    },
    "colab_type": "code",
    "id": "VChE5EmMgc-S",
    "outputId": "7a6bd953-ca26-4798-e711-aa19c02dd805"
   },
   "outputs": [
    {
     "name": "stdout",
     "output_type": "stream",
     "text": [
      "Enter a surname to classify: mikhail\n"
     ]
    },
    {
     "data": {
      "text/plain": [
       "[{'nationality': 'Russian', 'probability': 0.26477596},\n",
       " {'nationality': 'Arabic', 'probability': 0.22541936},\n",
       " {'nationality': 'Czech', 'probability': 0.19334471},\n",
       " {'nationality': 'Japanese', 'probability': 0.11407809},\n",
       " {'nationality': 'Polish', 'probability': 0.057022236},\n",
       " {'nationality': 'Scottish', 'probability': 0.039737158},\n",
       " {'nationality': 'German', 'probability': 0.030083973},\n",
       " {'nationality': 'English', 'probability': 0.028501295},\n",
       " {'nationality': 'Irish', 'probability': 0.015047381},\n",
       " {'nationality': 'Dutch', 'probability': 0.013146137},\n",
       " {'nationality': 'Greek', 'probability': 0.009252993},\n",
       " {'nationality': 'Korean', 'probability': 0.003403289},\n",
       " {'nationality': 'Chinese', 'probability': 0.0020223309},\n",
       " {'nationality': 'Vietnamese', 'probability': 0.0019665877},\n",
       " {'nationality': 'French', 'probability': 0.0008796358},\n",
       " {'nationality': 'Portuguese', 'probability': 0.00085704896},\n",
       " {'nationality': 'Italian', 'probability': 0.00032737976},\n",
       " {'nationality': 'Spanish', 'probability': 0.00013444725}]"
      ]
     },
     "execution_count": 52,
     "metadata": {},
     "output_type": "execute_result"
    }
   ],
   "source": [
    "# Inference\n",
    "surname = input(\"Enter a surname to classify: \")\n",
    "nationality = list(vectorizer.nationality_vocab.token_to_idx.keys())[0] # random filler nationality\n",
    "infer_df = pd.DataFrame([[surname, nationality, \"infer\"]], columns=['surname', 'nationality', 'split'])\n",
    "infer_df.surname = infer_df.surname.apply(preprocess_text)\n",
    "infer_dataset = SurnameDataset(df=infer_df, vectorizer=vectorizer, infer=True)\n",
    "results = inference.predict_nationality(dataset=infer_dataset)\n",
    "results"
   ]
  }
 ],
 "metadata": {
  "accelerator": "GPU",
  "colab": {
   "collapsed_sections": [
    "GDgMuZNj7ERp",
    "AKQ1bVDQMtmC",
    "1DMwuOhwPCk7",
    "nA9FrU9LP2xE",
    "Ast9gfliULvU",
    "CqUbp3-MUrbp",
    "8aek-rFOVrEw",
    "CFLBjYseXDFK",
    "r9HarbSza9QM",
    "U7ZUTZbyeW8T"
   ],
   "name": "10_Object_Oriented_ML",
   "provenance": [],
   "toc_visible": true,
   "version": "0.3.2"
  },
  "kernelspec": {
   "display_name": "Python 3",
   "language": "python",
   "name": "python3"
  },
  "language_info": {
   "codemirror_mode": {
    "name": "ipython",
    "version": 3
   },
   "file_extension": ".py",
   "mimetype": "text/x-python",
   "name": "python",
   "nbconvert_exporter": "python",
   "pygments_lexer": "ipython3",
   "version": "3.7.3"
  }
 },
 "nbformat": 4,
 "nbformat_minor": 1
}
